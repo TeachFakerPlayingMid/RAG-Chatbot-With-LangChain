{
 "cells": [
  {
   "cell_type": "code",
   "execution_count": 1,
   "metadata": {},
   "outputs": [
    {
     "name": "stdout",
     "output_type": "stream",
     "text": [
      "Collecting neo4j\n",
      "  Downloading neo4j-5.18.0.tar.gz (198 kB)\n",
      "     ---------------------------------------- 0.0/198.0 kB ? eta -:--:--\n",
      "     ------------------------------------  194.6/198.0 kB 11.5 MB/s eta 0:00:01\n",
      "     -------------------------------------- 198.0/198.0 kB 2.4 MB/s eta 0:00:00\n",
      "  Installing build dependencies: started\n",
      "  Installing build dependencies: finished with status 'done'\n",
      "  Getting requirements to build wheel: started\n",
      "  Getting requirements to build wheel: finished with status 'done'\n",
      "  Installing backend dependencies: started\n",
      "  Installing backend dependencies: finished with status 'done'\n",
      "  Preparing metadata (pyproject.toml): started\n",
      "  Preparing metadata (pyproject.toml): finished with status 'done'\n",
      "Requirement already satisfied: pytz in c:\\users\\tys\\appdata\\local\\programs\\python\\python311\\lib\\site-packages (from neo4j) (2022.7)\n",
      "Building wheels for collected packages: neo4j\n",
      "  Building wheel for neo4j (pyproject.toml): started\n",
      "  Building wheel for neo4j (pyproject.toml): finished with status 'done'\n",
      "  Created wheel for neo4j: filename=neo4j-5.18.0-py3-none-any.whl size=273889 sha256=4beaa3b176423d7cd910e23941502304dbd9f7b239b0e7585b46264b62779536\n",
      "  Stored in directory: c:\\users\\tys\\appdata\\local\\pip\\cache\\wheels\\54\\5c\\8d\\646324601710739f27a4b46c615dc12a6149f193d895997857\n",
      "Successfully built neo4j\n",
      "Installing collected packages: neo4j\n",
      "Successfully installed neo4j-5.18.0\n",
      "Note: you may need to restart the kernel to use updated packages.\n"
     ]
    }
   ],
   "source": [
    "pip install neo4j\n"
   ]
  },
  {
   "cell_type": "code",
   "execution_count": 2,
   "metadata": {},
   "outputs": [
    {
     "name": "stdout",
     "output_type": "stream",
     "text": [
      "Collecting python-dotenv\n",
      "  Downloading python_dotenv-1.0.1-py3-none-any.whl.metadata (23 kB)\n",
      "Downloading python_dotenv-1.0.1-py3-none-any.whl (19 kB)\n",
      "Installing collected packages: python-dotenv\n",
      "Successfully installed python-dotenv-1.0.1\n",
      "Note: you may need to restart the kernel to use updated packages.\n"
     ]
    }
   ],
   "source": [
    "pip install python-dotenv\n"
   ]
  },
  {
   "cell_type": "code",
   "execution_count": 1,
   "metadata": {},
   "outputs": [
    {
     "name": "stdout",
     "output_type": "stream",
     "text": [
      "neo4j+s://5e88c19c.databases.neo4j.io neo4j k15lZhRJUSoX4eLrt8w3_2mZxFJvLL2eUmfiuHnfzng\n",
      "Connection successful!\n"
     ]
    }
   ],
   "source": [
    "from dotenv import load_dotenv\n",
    "import os\n",
    "from neo4j import GraphDatabase, basic_auth\n",
    "\n",
    "# Load environment variables from .env file\n",
    "load_dotenv()\n",
    "\n",
    "# Retrieve credentials\n",
    "neo4j_uri = os.getenv(\"NEO4J_URI\")\n",
    "neo4j_user = os.getenv(\"NEO4J_USERNAME\")\n",
    "neo4j_password = os.getenv(\"NEO4J_PASSWORD\")\n",
    "\n",
    "# Function to test connection\n",
    "def test_neo4j_connection(uri, user, password):\n",
    "    try:\n",
    "        # Connect to the database\n",
    "        driver = GraphDatabase.driver(uri, auth=basic_auth(user, password))\n",
    "        with driver.session() as session:\n",
    "            # Run a simple query to return nothing\n",
    "            session.run(\"RETURN 1\")\n",
    "        print(\"Connection successful!\")\n",
    "    except Exception as e:\n",
    "        print(\"Failed to connect to the database:\", e)\n",
    "    finally:\n",
    "        # Close the driver connection\n",
    "        if driver:\n",
    "            driver.close()\n",
    "print(neo4j_uri, neo4j_user, neo4j_password)\n",
    "\n",
    "# Test the connection\n",
    "test_neo4j_connection(neo4j_uri, neo4j_user, neo4j_password)\n"
   ]
  }
 ],
 "metadata": {
  "kernelspec": {
   "display_name": "Python 3",
   "language": "python",
   "name": "python3"
  },
  "language_info": {
   "codemirror_mode": {
    "name": "ipython",
    "version": 3
   },
   "file_extension": ".py",
   "mimetype": "text/x-python",
   "name": "python",
   "nbconvert_exporter": "python",
   "pygments_lexer": "ipython3",
   "version": "3.11.1"
  }
 },
 "nbformat": 4,
 "nbformat_minor": 2
}
